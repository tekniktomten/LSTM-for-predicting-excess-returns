{
 "cells": [
  {
   "cell_type": "code",
   "execution_count": 1,
   "metadata": {},
   "outputs": [],
   "source": [
    "import pandas as pd\n",
    "import pandas_datareader.data as web\n",
    "import datetime\n",
    "import matplotlib.pyplot as plt\n",
    "from keras import Sequential\n",
    "from keras.layers import LSTM, Dense, Reshape\n",
    "import numpy as np\n",
    "from sklearn.preprocessing import MinMaxScaler"
   ]
  },
  {
   "cell_type": "code",
   "execution_count": 2,
   "metadata": {},
   "outputs": [
    {
     "name": "stdout",
     "output_type": "stream",
     "text": [
      "386 ['8TRA.ST', 'AAK.ST', 'ABB.ST', 'ADDT-B.ST', 'AF-B.ST', 'ALFA.ST', 'ALIV-SDB.ST', 'AM1S.ST', 'ARION-SDB.ST', 'ARJO-B.ST', 'ASSA-B.ST', 'ATCO-A.ST', 'ATCO-B.ST', 'ATRLJ-B.ST', 'AXFO.ST', 'AZA.ST', 'AZN.ST', 'BALD-B.ST', 'BEIJ-B.ST', 'BETS-B.ST', 'BHG.ST', 'BILL.ST', 'BOL.ST', 'BRAV.ST', 'BURE.ST', 'CAST.ST', 'CATE.ST', 'CINT.ST', 'DOM.ST', 'EKTA-B.ST', 'ELUX-A.ST', 'ELUX-B.ST', 'EPI-A.ST', 'EPI-B.ST', 'EPRO-B.ST', 'EQT.ST', 'ERIC-A.ST', 'ERIC-B.ST', 'ESSITY-A.ST', 'ESSITY-B.ST', 'EVO.ST', 'FABG.ST', 'FOI-B.ST', 'FPAR-A.ST', 'FPAR-D.ST', 'FPAR-PREF.ST', 'GETI-B.ST', 'HEXA-B.ST', 'HM-B.ST', 'HOLM-A.ST', 'HOLM-B.ST', 'HPOL-B.ST', 'HUFV-A.ST', 'HUSQ-A.ST', 'HUSQ-B.ST', 'ICA.ST', 'INDT.ST', 'INDU-A.ST', 'INDU-C.ST', 'INTRUM.ST', 'INVE-A.ST', 'INVE-B.ST', 'JM.ST', 'KIND-SDB.ST', 'KINV-A.ST', 'KINV-B.ST', 'KLED.ST', 'KLOV-A.ST', 'KLOV-B.ST', 'KLOV-PREF.ST', 'LATO-B.ST', 'LIFCO-B.ST', 'LOOMIS.ST', 'LUMI.ST', 'LUND-B.ST', 'LUNE.ST', 'MCOV-B.ST', 'MYCR.ST', 'NCC-A.ST', 'NCC-B.ST', 'NDA-SE.ST', 'NENT-A.ST', 'NENT-B.ST', 'NIBE-B.ST', 'NOBI.ST', 'NOLA-B.ST', 'NYF.ST', 'PEAB-B.ST', 'PLAZ-B.ST', 'PNDX-B.ST', 'RATO-A.ST', 'RATO-B.ST', 'RESURS.ST', 'SAAB-B.ST', 'SAGA-A.ST', 'SAGA-B.ST', 'SAGA-D.ST', 'SAGA-PREF.ST', 'SAND.ST', 'SAVE.ST', 'SBB-B.ST', 'SBB-D.ST', 'SCA-A.ST', 'SCA-B.ST', 'SEB-A.ST', 'SEB-C.ST', 'SECT-B.ST', 'SECU-B.ST', 'SHB-A.ST', 'SHB-B.ST', 'SINCH.ST', 'SKA-B.ST', 'SKF-A.ST', 'SKF-B.ST', 'SOBI.ST', 'SSAB-A.ST', 'SSAB-B.ST', 'STE-A.ST', 'STE-R.ST', 'SWEC-A.ST', 'SWEC-B.ST', 'SWED-A.ST', 'SWMA.ST', 'TEL2-A.ST', 'TEL2-B.ST', 'TELIA.ST', 'THULE.ST', 'TIETOS.ST', 'TIGO-SDB.ST', 'TREL-B.ST', 'VITR.ST', 'VNE-SDB.ST', 'VOLV-A.ST', 'VOLV-B.ST', 'WALL-B.ST', 'WIHL.ST', 'ACAD.ST', 'ADAPT.ST', 'ALIF-B.ST', 'ALIG.ST', 'AMBEA.ST', 'ANNE-B.ST', 'ANOD-B.ST', 'AOI.ST', 'AQ.ST', 'ATT.ST', 'BACTI-B.ST', 'BALCO.ST', 'BEIA-B.ST', 'BERG-B.ST', 'BESQ.ST', 'BETCO.ST', 'BILI-A.ST', 'BIOA-B.ST', 'BIOG-B.ST', 'BIOT.ST', 'BMAX.ST', 'BONAV-A.ST', 'BONAV-B.ST', 'BONEX.ST', 'BOOZT.ST', 'BRIN-B.ST', 'BTS-B.ST', 'BUFAB.ST', 'BULTEN.ST', 'CALTX.ST', 'CAMX.ST', 'CANTA.ST', 'CAT-A.ST', 'CAT-B.ST', 'CCC.ST', 'CEVI.ST', 'CLA-B.ST', 'CLAS-B.ST', 'CLNK-B.ST', 'COIC.ST', 'COLL.ST', 'COOR.ST', 'CORE-A.ST', 'CORE-B.ST', 'CORE-PREF.ST', 'CRED-A.ST', 'CTM.ST', 'CTT.ST', 'DIOS.ST', 'DUNI.ST', 'DUST.ST', 'EAST.ST', 'ELAN-B.ST', 'ELTEL.ST', 'ENEA.ST', 'ENQ.ST', 'EOLU-B.ST', 'FAG.ST', 'FG.ST', 'FING-B.ST', 'FNM.ST', 'G5EN.ST', 'GARO.ST', 'GPG.ST', 'GPG-PREF.ST', 'GRNG.ST', 'HANDI.ST', 'HEBA-B.ST', 'HLDX.ST', 'HMS.ST', 'HNSA.ST', 'HOFI.ST', 'HTRO.ST', 'HUM.ST', 'IAR-B.ST', 'IBT-B.ST', 'IMMNOV.ST', 'INSTAL.ST', 'INWI.ST', 'IPCO.ST', 'IRLAB-A.ST', 'ITAB-B.ST', 'IVSO.ST', 'JOMA.ST', 'K2A-B.ST', 'K2A-PREF.ST', 'KAR.ST', 'KARO.ST', 'KFAST-B.ST', 'KNOW.ST', 'LAGR-B.ST', 'LEO.ST', 'LIAB.ST', 'LIME.ST', 'LUC.ST', 'LUG.ST', 'MCAP.ST', 'MEKO.ST', 'MIPS.ST', 'MMGR-B.ST', 'MSON-A.ST', 'MSON-B.ST', 'MTG-A.ST', 'MTG-B.ST', 'MTRS.ST', 'NCAB.ST', 'NEWA-B.ST', 'NMAN.ST', 'NOBINA.ST', 'NP3.ST', 'NP3-PREF.ST', 'NPAPER.ST', 'NWG.ST', 'OASM.ST', 'OEM-B.ST', 'ONCO.ST', 'ORES.ST', 'ORX.ST', 'PACT.ST', 'PRIC-B.ST', 'PROB.ST', 'QLINEA.ST', 'RAY-B.ST', 'READ.ST', 'RECI-B.ST', 'REJL-B.ST', 'RROS.ST', 'SAS.ST', 'SCST.ST', 'SHOT.ST', 'SKIS-B.ST', 'STEF-B.ST', 'SVOL-A.ST', 'SVOL-B.ST', 'SYSR.ST', 'TETY.ST', 'TFBANK.ST', 'TOBII.ST', 'TRAC-B.ST', 'TRIAN-B.ST', 'TROAX.ST', 'VBG-B.ST', 'VIT-B.ST', 'VNV.ST', 'VOLO.ST', 'VOLO-PREF.ST', 'WBGR-B.ST', 'XANO-B.ST', 'XSPRAY.ST', 'XVIVO.ST', 'ABLI.ST', 'ACE.ST', 'ACTI.ST', 'ANOT.ST', 'ARISE.ST', 'ARP.ST', 'ATIC.ST', 'ATORX.ST', 'ATVEXA-B.ST', 'B3.ST', 'BEGR.ST', 'BELE.ST', 'BINV.ST', 'BONG.ST', 'BORG.ST', 'BOUL.ST', 'BRG-B.ST', 'CBTT-B.ST', 'CCOR-B.ST', 'CNCJO-B.ST', 'CRAD-B.ST', 'DEDI.ST', 'DORO.ST', 'DURC-B.ST', 'EGTX.ST', 'ELEC.ST', 'ELOS-B.ST', 'EMPIR-B.ST', 'ENDO.ST', 'ENRO.ST', 'ENRO-PREF-A.ST', 'ENRO-PREF-B.ST', 'EPIS-B.ST', 'ETX.ST', 'EWRK.ST', 'FEEL.ST', 'FMM-B.ST', 'FPIP.ST', 'GHP.ST', 'GIGSEK.ST', 'GREEN.ST', 'HANZA.ST', 'HAV-B.ST', 'IMMU.ST', 'IRRAS.ST', 'IS.ST', 'JOSE.ST', 'KABE-B.ST', 'KDEV.ST', 'LAMM-B.ST', 'MAG.ST', 'MAHA-A.ST', 'MEAB-B.ST', 'MIDW-A.ST', 'MIDW-B.ST', 'MOB.ST', 'MOMENT.ST', 'MSAB-B.ST', 'MULQ.ST', 'MVIR-B.ST', 'NAXS.ST', 'NELLY.ST', 'NETI-B.ST', 'NGS.ST', 'NIL-B.ST', 'NOTE.ST', 'NTEK-B.ST', 'ODD.ST', 'OP.ST', 'OP-PREF.ST', 'OP-PREFB.ST', 'ORTI-A.ST', 'ORTI-B.ST', 'PENG-B.ST', 'POOL-B.ST', 'PREC.ST', 'PREV-B.ST', 'PROF-B.ST', 'QLIRO.ST', 'RAIL.ST', 'RIZZO-B.ST', 'RNBS.ST', 'SANION.ST', 'SEMC.ST', 'SENS.ST', 'SINT.ST', 'SOF-B.ST', 'SRNKE-B.ST', 'STAR-A.ST', 'STAR-B.ST', 'STRAX.ST', 'STWK.ST', 'SVED-B.ST', 'SVIK.ST', 'TRAD.ST', 'VICO.ST', 'VSSAB-B.ST', 'WISE.ST', 'XBRANE.ST', 'ZETA.ST']\n"
     ]
    }
   ],
   "source": [
    "start = datetime.datetime(2002, 1, 1)\n",
    "end = datetime.datetime.today()\n",
    "\n",
    "tickers = pd.read_csv(\"omx_tickers.csv\", header=None) # as of 2021-03-01\n",
    "tickers = list(tickers[0])\n",
    "for i in range(len(tickers)):\n",
    "    tickers[i] = tickers[i].replace(\" \", \"-\") + \".ST\"\n",
    "print(len(tickers), tickers)"
   ]
  },
  {
   "cell_type": "code",
   "execution_count": 3,
   "metadata": {},
   "outputs": [],
   "source": [
    "number_of_stocks = 3"
   ]
  },
  {
   "cell_type": "code",
   "execution_count": 4,
   "metadata": {},
   "outputs": [],
   "source": [
    "OMX_raw = web.DataReader([\"ABB.ST\", \"ERIC-B.ST\", \"ALFA.ST\"], 'yahoo', start, end)"
   ]
  },
  {
   "cell_type": "code",
   "execution_count": 5,
   "metadata": {},
   "outputs": [
    {
     "data": {
      "text/html": [
       "<div>\n",
       "<style scoped>\n",
       "    .dataframe tbody tr th:only-of-type {\n",
       "        vertical-align: middle;\n",
       "    }\n",
       "\n",
       "    .dataframe tbody tr th {\n",
       "        vertical-align: top;\n",
       "    }\n",
       "\n",
       "    .dataframe thead tr th {\n",
       "        text-align: left;\n",
       "    }\n",
       "\n",
       "    .dataframe thead tr:last-of-type th {\n",
       "        text-align: right;\n",
       "    }\n",
       "</style>\n",
       "<table border=\"1\" class=\"dataframe\">\n",
       "  <thead>\n",
       "    <tr>\n",
       "      <th>Attributes</th>\n",
       "      <th colspan=\"3\" halign=\"left\">Adj Close</th>\n",
       "      <th colspan=\"3\" halign=\"left\">Close</th>\n",
       "      <th colspan=\"3\" halign=\"left\">Adj High</th>\n",
       "      <th colspan=\"3\" halign=\"left\">Adj Low</th>\n",
       "      <th colspan=\"3\" halign=\"left\">Adj Open</th>\n",
       "      <th colspan=\"3\" halign=\"left\">Volume</th>\n",
       "    </tr>\n",
       "    <tr>\n",
       "      <th>Symbols</th>\n",
       "      <th>ABB.ST</th>\n",
       "      <th>ERIC-B.ST</th>\n",
       "      <th>ALFA.ST</th>\n",
       "      <th>ABB.ST</th>\n",
       "      <th>ERIC-B.ST</th>\n",
       "      <th>ALFA.ST</th>\n",
       "      <th>ABB.ST</th>\n",
       "      <th>ERIC-B.ST</th>\n",
       "      <th>ALFA.ST</th>\n",
       "      <th>ABB.ST</th>\n",
       "      <th>ERIC-B.ST</th>\n",
       "      <th>ALFA.ST</th>\n",
       "      <th>ABB.ST</th>\n",
       "      <th>ERIC-B.ST</th>\n",
       "      <th>ALFA.ST</th>\n",
       "      <th>ABB.ST</th>\n",
       "      <th>ERIC-B.ST</th>\n",
       "      <th>ALFA.ST</th>\n",
       "    </tr>\n",
       "    <tr>\n",
       "      <th>Date</th>\n",
       "      <th></th>\n",
       "      <th></th>\n",
       "      <th></th>\n",
       "      <th></th>\n",
       "      <th></th>\n",
       "      <th></th>\n",
       "      <th></th>\n",
       "      <th></th>\n",
       "      <th></th>\n",
       "      <th></th>\n",
       "      <th></th>\n",
       "      <th></th>\n",
       "      <th></th>\n",
       "      <th></th>\n",
       "      <th></th>\n",
       "      <th></th>\n",
       "      <th></th>\n",
       "      <th></th>\n",
       "    </tr>\n",
       "  </thead>\n",
       "  <tbody>\n",
       "    <tr>\n",
       "      <th>2002-01-01</th>\n",
       "      <td>75.241837</td>\n",
       "      <td>135.631348</td>\n",
       "      <td>NaN</td>\n",
       "      <td>80.192078</td>\n",
       "      <td>205.835617</td>\n",
       "      <td>NaN</td>\n",
       "      <td>75.241837</td>\n",
       "      <td>135.631348</td>\n",
       "      <td>NaN</td>\n",
       "      <td>75.241837</td>\n",
       "      <td>135.631348</td>\n",
       "      <td>NaN</td>\n",
       "      <td>75.241837</td>\n",
       "      <td>135.631348</td>\n",
       "      <td>NaN</td>\n",
       "      <td>0.0</td>\n",
       "      <td>0.0</td>\n",
       "      <td>NaN</td>\n",
       "    </tr>\n",
       "    <tr>\n",
       "      <th>2002-01-02</th>\n",
       "      <td>75.614342</td>\n",
       "      <td>133.251862</td>\n",
       "      <td>NaN</td>\n",
       "      <td>80.589073</td>\n",
       "      <td>202.224472</td>\n",
       "      <td>NaN</td>\n",
       "      <td>77.104277</td>\n",
       "      <td>134.441608</td>\n",
       "      <td>NaN</td>\n",
       "      <td>74.124399</td>\n",
       "      <td>132.062115</td>\n",
       "      <td>NaN</td>\n",
       "      <td>74.869371</td>\n",
       "      <td>132.062115</td>\n",
       "      <td>NaN</td>\n",
       "      <td>1051654.0</td>\n",
       "      <td>6226894.0</td>\n",
       "      <td>NaN</td>\n",
       "    </tr>\n",
       "    <tr>\n",
       "      <th>2002-01-03</th>\n",
       "      <td>81.946571</td>\n",
       "      <td>141.580109</td>\n",
       "      <td>NaN</td>\n",
       "      <td>87.337906</td>\n",
       "      <td>214.863495</td>\n",
       "      <td>NaN</td>\n",
       "      <td>81.946571</td>\n",
       "      <td>141.580109</td>\n",
       "      <td>NaN</td>\n",
       "      <td>76.359305</td>\n",
       "      <td>134.441618</td>\n",
       "      <td>NaN</td>\n",
       "      <td>76.359305</td>\n",
       "      <td>134.441618</td>\n",
       "      <td>NaN</td>\n",
       "      <td>5094707.0</td>\n",
       "      <td>11113838.0</td>\n",
       "      <td>NaN</td>\n",
       "    </tr>\n",
       "    <tr>\n",
       "      <th>2002-01-04</th>\n",
       "      <td>84.553955</td>\n",
       "      <td>142.769882</td>\n",
       "      <td>NaN</td>\n",
       "      <td>90.116844</td>\n",
       "      <td>216.669067</td>\n",
       "      <td>NaN</td>\n",
       "      <td>84.926437</td>\n",
       "      <td>147.528880</td>\n",
       "      <td>NaN</td>\n",
       "      <td>81.574078</td>\n",
       "      <td>140.390388</td>\n",
       "      <td>NaN</td>\n",
       "      <td>82.319049</td>\n",
       "      <td>145.149386</td>\n",
       "      <td>NaN</td>\n",
       "      <td>3175370.0</td>\n",
       "      <td>17202996.0</td>\n",
       "      <td>NaN</td>\n",
       "    </tr>\n",
       "    <tr>\n",
       "      <th>2002-01-07</th>\n",
       "      <td>83.436501</td>\n",
       "      <td>142.769882</td>\n",
       "      <td>NaN</td>\n",
       "      <td>88.925873</td>\n",
       "      <td>216.669067</td>\n",
       "      <td>NaN</td>\n",
       "      <td>86.416370</td>\n",
       "      <td>145.149386</td>\n",
       "      <td>NaN</td>\n",
       "      <td>81.574076</td>\n",
       "      <td>140.390388</td>\n",
       "      <td>NaN</td>\n",
       "      <td>85.671407</td>\n",
       "      <td>143.959639</td>\n",
       "      <td>NaN</td>\n",
       "      <td>3394227.0</td>\n",
       "      <td>20875685.0</td>\n",
       "      <td>NaN</td>\n",
       "    </tr>\n",
       "    <tr>\n",
       "      <th>...</th>\n",
       "      <td>...</td>\n",
       "      <td>...</td>\n",
       "      <td>...</td>\n",
       "      <td>...</td>\n",
       "      <td>...</td>\n",
       "      <td>...</td>\n",
       "      <td>...</td>\n",
       "      <td>...</td>\n",
       "      <td>...</td>\n",
       "      <td>...</td>\n",
       "      <td>...</td>\n",
       "      <td>...</td>\n",
       "      <td>...</td>\n",
       "      <td>...</td>\n",
       "      <td>...</td>\n",
       "      <td>...</td>\n",
       "      <td>...</td>\n",
       "      <td>...</td>\n",
       "    </tr>\n",
       "    <tr>\n",
       "      <th>2021-02-23</th>\n",
       "      <td>240.899994</td>\n",
       "      <td>104.349998</td>\n",
       "      <td>259.799988</td>\n",
       "      <td>240.899994</td>\n",
       "      <td>104.349998</td>\n",
       "      <td>259.799988</td>\n",
       "      <td>247.399994</td>\n",
       "      <td>106.050003</td>\n",
       "      <td>266.600006</td>\n",
       "      <td>238.100006</td>\n",
       "      <td>103.099998</td>\n",
       "      <td>257.700012</td>\n",
       "      <td>247.000000</td>\n",
       "      <td>105.650002</td>\n",
       "      <td>263.500000</td>\n",
       "      <td>2220543.0</td>\n",
       "      <td>5886405.0</td>\n",
       "      <td>939993.0</td>\n",
       "    </tr>\n",
       "    <tr>\n",
       "      <th>2021-02-24</th>\n",
       "      <td>244.699997</td>\n",
       "      <td>103.849998</td>\n",
       "      <td>264.299988</td>\n",
       "      <td>244.699997</td>\n",
       "      <td>103.849998</td>\n",
       "      <td>264.299988</td>\n",
       "      <td>245.199997</td>\n",
       "      <td>105.400002</td>\n",
       "      <td>265.700012</td>\n",
       "      <td>241.100006</td>\n",
       "      <td>103.449997</td>\n",
       "      <td>258.500000</td>\n",
       "      <td>241.100006</td>\n",
       "      <td>104.400002</td>\n",
       "      <td>260.100006</td>\n",
       "      <td>1526122.0</td>\n",
       "      <td>32333646.0</td>\n",
       "      <td>978505.0</td>\n",
       "    </tr>\n",
       "    <tr>\n",
       "      <th>2021-02-25</th>\n",
       "      <td>244.100006</td>\n",
       "      <td>106.150002</td>\n",
       "      <td>265.799988</td>\n",
       "      <td>244.100006</td>\n",
       "      <td>106.150002</td>\n",
       "      <td>265.799988</td>\n",
       "      <td>246.800003</td>\n",
       "      <td>106.800003</td>\n",
       "      <td>266.700012</td>\n",
       "      <td>243.100006</td>\n",
       "      <td>104.699997</td>\n",
       "      <td>264.100006</td>\n",
       "      <td>246.000000</td>\n",
       "      <td>105.000000</td>\n",
       "      <td>265.299988</td>\n",
       "      <td>1370005.0</td>\n",
       "      <td>8381992.0</td>\n",
       "      <td>742172.0</td>\n",
       "    </tr>\n",
       "    <tr>\n",
       "      <th>2021-02-26</th>\n",
       "      <td>241.899994</td>\n",
       "      <td>105.400002</td>\n",
       "      <td>261.299988</td>\n",
       "      <td>241.899994</td>\n",
       "      <td>105.400002</td>\n",
       "      <td>261.299988</td>\n",
       "      <td>244.699997</td>\n",
       "      <td>106.099998</td>\n",
       "      <td>263.299988</td>\n",
       "      <td>241.000000</td>\n",
       "      <td>104.000000</td>\n",
       "      <td>259.700012</td>\n",
       "      <td>242.600006</td>\n",
       "      <td>105.150002</td>\n",
       "      <td>262.700012</td>\n",
       "      <td>1346241.0</td>\n",
       "      <td>6391238.0</td>\n",
       "      <td>477623.0</td>\n",
       "    </tr>\n",
       "    <tr>\n",
       "      <th>2021-03-01</th>\n",
       "      <td>248.000000</td>\n",
       "      <td>107.900002</td>\n",
       "      <td>268.000000</td>\n",
       "      <td>248.000000</td>\n",
       "      <td>107.900002</td>\n",
       "      <td>268.000000</td>\n",
       "      <td>248.199997</td>\n",
       "      <td>108.250000</td>\n",
       "      <td>267.799988</td>\n",
       "      <td>243.800003</td>\n",
       "      <td>106.099998</td>\n",
       "      <td>263.200012</td>\n",
       "      <td>243.800003</td>\n",
       "      <td>107.699997</td>\n",
       "      <td>263.399994</td>\n",
       "      <td>1181945.0</td>\n",
       "      <td>4982622.0</td>\n",
       "      <td>459640.0</td>\n",
       "    </tr>\n",
       "  </tbody>\n",
       "</table>\n",
       "<p>4854 rows × 18 columns</p>\n",
       "</div>"
      ],
      "text/plain": [
       "Attributes   Adj Close                               Close              \\\n",
       "Symbols         ABB.ST   ERIC-B.ST     ALFA.ST      ABB.ST   ERIC-B.ST   \n",
       "Date                                                                     \n",
       "2002-01-01   75.241837  135.631348         NaN   80.192078  205.835617   \n",
       "2002-01-02   75.614342  133.251862         NaN   80.589073  202.224472   \n",
       "2002-01-03   81.946571  141.580109         NaN   87.337906  214.863495   \n",
       "2002-01-04   84.553955  142.769882         NaN   90.116844  216.669067   \n",
       "2002-01-07   83.436501  142.769882         NaN   88.925873  216.669067   \n",
       "...                ...         ...         ...         ...         ...   \n",
       "2021-02-23  240.899994  104.349998  259.799988  240.899994  104.349998   \n",
       "2021-02-24  244.699997  103.849998  264.299988  244.699997  103.849998   \n",
       "2021-02-25  244.100006  106.150002  265.799988  244.100006  106.150002   \n",
       "2021-02-26  241.899994  105.400002  261.299988  241.899994  105.400002   \n",
       "2021-03-01  248.000000  107.900002  268.000000  248.000000  107.900002   \n",
       "\n",
       "Attributes                Adj High                             Adj Low  \\\n",
       "Symbols        ALFA.ST      ABB.ST   ERIC-B.ST     ALFA.ST      ABB.ST   \n",
       "Date                                                                     \n",
       "2002-01-01         NaN   75.241837  135.631348         NaN   75.241837   \n",
       "2002-01-02         NaN   77.104277  134.441608         NaN   74.124399   \n",
       "2002-01-03         NaN   81.946571  141.580109         NaN   76.359305   \n",
       "2002-01-04         NaN   84.926437  147.528880         NaN   81.574078   \n",
       "2002-01-07         NaN   86.416370  145.149386         NaN   81.574076   \n",
       "...                ...         ...         ...         ...         ...   \n",
       "2021-02-23  259.799988  247.399994  106.050003  266.600006  238.100006   \n",
       "2021-02-24  264.299988  245.199997  105.400002  265.700012  241.100006   \n",
       "2021-02-25  265.799988  246.800003  106.800003  266.700012  243.100006   \n",
       "2021-02-26  261.299988  244.699997  106.099998  263.299988  241.000000   \n",
       "2021-03-01  268.000000  248.199997  108.250000  267.799988  243.800003   \n",
       "\n",
       "Attributes                            Adj Open                          \\\n",
       "Symbols      ERIC-B.ST     ALFA.ST      ABB.ST   ERIC-B.ST     ALFA.ST   \n",
       "Date                                                                     \n",
       "2002-01-01  135.631348         NaN   75.241837  135.631348         NaN   \n",
       "2002-01-02  132.062115         NaN   74.869371  132.062115         NaN   \n",
       "2002-01-03  134.441618         NaN   76.359305  134.441618         NaN   \n",
       "2002-01-04  140.390388         NaN   82.319049  145.149386         NaN   \n",
       "2002-01-07  140.390388         NaN   85.671407  143.959639         NaN   \n",
       "...                ...         ...         ...         ...         ...   \n",
       "2021-02-23  103.099998  257.700012  247.000000  105.650002  263.500000   \n",
       "2021-02-24  103.449997  258.500000  241.100006  104.400002  260.100006   \n",
       "2021-02-25  104.699997  264.100006  246.000000  105.000000  265.299988   \n",
       "2021-02-26  104.000000  259.700012  242.600006  105.150002  262.700012   \n",
       "2021-03-01  106.099998  263.200012  243.800003  107.699997  263.399994   \n",
       "\n",
       "Attributes     Volume                        \n",
       "Symbols        ABB.ST   ERIC-B.ST   ALFA.ST  \n",
       "Date                                         \n",
       "2002-01-01        0.0         0.0       NaN  \n",
       "2002-01-02  1051654.0   6226894.0       NaN  \n",
       "2002-01-03  5094707.0  11113838.0       NaN  \n",
       "2002-01-04  3175370.0  17202996.0       NaN  \n",
       "2002-01-07  3394227.0  20875685.0       NaN  \n",
       "...               ...         ...       ...  \n",
       "2021-02-23  2220543.0   5886405.0  939993.0  \n",
       "2021-02-24  1526122.0  32333646.0  978505.0  \n",
       "2021-02-25  1370005.0   8381992.0  742172.0  \n",
       "2021-02-26  1346241.0   6391238.0  477623.0  \n",
       "2021-03-01  1181945.0   4982622.0  459640.0  \n",
       "\n",
       "[4854 rows x 18 columns]"
      ]
     },
     "execution_count": 5,
     "metadata": {},
     "output_type": "execute_result"
    }
   ],
   "source": [
    "OMX = OMX_raw.copy()\n",
    "OMX[\"Open\"] = OMX[\"Open\"] * OMX[\"Adj Close\"] / OMX[\"Close\"]\n",
    "OMX.rename(columns={\"Open\":\"Adj Open\"}, inplace=True)\n",
    "OMX[\"High\"] = OMX[\"High\"] * OMX[\"Adj Close\"] / OMX[\"Close\"]\n",
    "OMX.rename(columns={\"High\":\"Adj High\"}, inplace=True)\n",
    "OMX[\"Low\"] = OMX[\"Low\"] * OMX[\"Adj Close\"] / OMX[\"Close\"]\n",
    "OMX.rename(columns={\"Low\":\"Adj Low\"}, inplace=True)\n",
    "#OMX = OMX[[\"Adj Close\", \"Adj Open\", \"Adj High\", \"Adj Low\", \"Adj Close\"]] # REMOVED VOLUME\n",
    "OMX"
   ]
  },
  {
   "cell_type": "code",
   "execution_count": 6,
   "metadata": {},
   "outputs": [],
   "source": [
    "#OMX.columns = [\"Next Adj Close\", \"Adj Open\", \"Adj High\", \"Adj Low\", \"Adj Close\"]"
   ]
  },
  {
   "cell_type": "code",
   "execution_count": 7,
   "metadata": {},
   "outputs": [
    {
     "data": {
      "text/html": [
       "<div>\n",
       "<style scoped>\n",
       "    .dataframe tbody tr th:only-of-type {\n",
       "        vertical-align: middle;\n",
       "    }\n",
       "\n",
       "    .dataframe tbody tr th {\n",
       "        vertical-align: top;\n",
       "    }\n",
       "\n",
       "    .dataframe thead th {\n",
       "        text-align: right;\n",
       "    }\n",
       "</style>\n",
       "<table border=\"1\" class=\"dataframe\">\n",
       "  <thead>\n",
       "    <tr style=\"text-align: right;\">\n",
       "      <th>Symbols</th>\n",
       "      <th>ABB.ST</th>\n",
       "      <th>ERIC-B.ST</th>\n",
       "      <th>ALFA.ST</th>\n",
       "    </tr>\n",
       "    <tr>\n",
       "      <th>Date</th>\n",
       "      <th></th>\n",
       "      <th></th>\n",
       "      <th></th>\n",
       "    </tr>\n",
       "  </thead>\n",
       "  <tbody>\n",
       "    <tr>\n",
       "      <th>2002-01-02</th>\n",
       "      <td>1.004951</td>\n",
       "      <td>0.982456</td>\n",
       "      <td>NaN</td>\n",
       "    </tr>\n",
       "    <tr>\n",
       "      <th>2002-01-03</th>\n",
       "      <td>1.083744</td>\n",
       "      <td>1.062500</td>\n",
       "      <td>NaN</td>\n",
       "    </tr>\n",
       "    <tr>\n",
       "      <th>2002-01-04</th>\n",
       "      <td>1.031818</td>\n",
       "      <td>1.008404</td>\n",
       "      <td>NaN</td>\n",
       "    </tr>\n",
       "    <tr>\n",
       "      <th>2002-01-07</th>\n",
       "      <td>0.986784</td>\n",
       "      <td>1.000000</td>\n",
       "      <td>NaN</td>\n",
       "    </tr>\n",
       "    <tr>\n",
       "      <th>2002-01-08</th>\n",
       "      <td>0.991072</td>\n",
       "      <td>0.950000</td>\n",
       "      <td>NaN</td>\n",
       "    </tr>\n",
       "    <tr>\n",
       "      <th>...</th>\n",
       "      <td>...</td>\n",
       "      <td>...</td>\n",
       "      <td>...</td>\n",
       "    </tr>\n",
       "    <tr>\n",
       "      <th>2021-02-23</th>\n",
       "      <td>0.972940</td>\n",
       "      <td>0.983506</td>\n",
       "      <td>0.990847</td>\n",
       "    </tr>\n",
       "    <tr>\n",
       "      <th>2021-02-24</th>\n",
       "      <td>1.015774</td>\n",
       "      <td>0.995208</td>\n",
       "      <td>1.017321</td>\n",
       "    </tr>\n",
       "    <tr>\n",
       "      <th>2021-02-25</th>\n",
       "      <td>0.997548</td>\n",
       "      <td>1.022147</td>\n",
       "      <td>1.005675</td>\n",
       "    </tr>\n",
       "    <tr>\n",
       "      <th>2021-02-26</th>\n",
       "      <td>0.990987</td>\n",
       "      <td>0.992935</td>\n",
       "      <td>0.983070</td>\n",
       "    </tr>\n",
       "    <tr>\n",
       "      <th>2021-03-01</th>\n",
       "      <td>1.025217</td>\n",
       "      <td>1.023719</td>\n",
       "      <td>1.025641</td>\n",
       "    </tr>\n",
       "  </tbody>\n",
       "</table>\n",
       "<p>4853 rows × 3 columns</p>\n",
       "</div>"
      ],
      "text/plain": [
       "Symbols       ABB.ST  ERIC-B.ST   ALFA.ST\n",
       "Date                                     \n",
       "2002-01-02  1.004951   0.982456       NaN\n",
       "2002-01-03  1.083744   1.062500       NaN\n",
       "2002-01-04  1.031818   1.008404       NaN\n",
       "2002-01-07  0.986784   1.000000       NaN\n",
       "2002-01-08  0.991072   0.950000       NaN\n",
       "...              ...        ...       ...\n",
       "2021-02-23  0.972940   0.983506  0.990847\n",
       "2021-02-24  1.015774   0.995208  1.017321\n",
       "2021-02-25  0.997548   1.022147  1.005675\n",
       "2021-02-26  0.990987   0.992935  0.983070\n",
       "2021-03-01  1.025217   1.023719  1.025641\n",
       "\n",
       "[4853 rows x 3 columns]"
      ]
     },
     "execution_count": 7,
     "metadata": {},
     "output_type": "execute_result"
    }
   ],
   "source": [
    "OMX[\"Adj Open\"] = OMX[\"Adj Open\"]/OMX[\"Adj Close\"]\n",
    "OMX[\"Adj High\"] = OMX[\"Adj High\"]/OMX[\"Adj Close\"]\n",
    "OMX[\"Adj Low\"] = OMX[\"Adj Low\"]/OMX[\"Adj Close\"]\n",
    "N = OMX[\"Adj Close\"]/OMX[\"Adj Close\"].shift(1)\n",
    "N = N.iloc[1:]\n",
    "OMX[\"Adj Close\"] = OMX[\"Adj Close\"]/OMX[\"Adj Close\"].shift(1)\n",
    "N"
   ]
  },
  {
   "cell_type": "code",
   "execution_count": 8,
   "metadata": {},
   "outputs": [
    {
     "data": {
      "text/html": [
       "<div>\n",
       "<style scoped>\n",
       "    .dataframe tbody tr th:only-of-type {\n",
       "        vertical-align: middle;\n",
       "    }\n",
       "\n",
       "    .dataframe tbody tr th {\n",
       "        vertical-align: top;\n",
       "    }\n",
       "\n",
       "    .dataframe thead tr th {\n",
       "        text-align: left;\n",
       "    }\n",
       "\n",
       "    .dataframe thead tr:last-of-type th {\n",
       "        text-align: right;\n",
       "    }\n",
       "</style>\n",
       "<table border=\"1\" class=\"dataframe\">\n",
       "  <thead>\n",
       "    <tr>\n",
       "      <th>Attributes</th>\n",
       "      <th colspan=\"3\" halign=\"left\">Adj Close</th>\n",
       "      <th colspan=\"3\" halign=\"left\">Close</th>\n",
       "      <th colspan=\"3\" halign=\"left\">Adj High</th>\n",
       "      <th colspan=\"3\" halign=\"left\">Adj Low</th>\n",
       "      <th colspan=\"3\" halign=\"left\">Adj Open</th>\n",
       "      <th colspan=\"3\" halign=\"left\">Volume</th>\n",
       "    </tr>\n",
       "    <tr>\n",
       "      <th>Symbols</th>\n",
       "      <th>ABB.ST</th>\n",
       "      <th>ERIC-B.ST</th>\n",
       "      <th>ALFA.ST</th>\n",
       "      <th>ABB.ST</th>\n",
       "      <th>ERIC-B.ST</th>\n",
       "      <th>ALFA.ST</th>\n",
       "      <th>ABB.ST</th>\n",
       "      <th>ERIC-B.ST</th>\n",
       "      <th>ALFA.ST</th>\n",
       "      <th>ABB.ST</th>\n",
       "      <th>ERIC-B.ST</th>\n",
       "      <th>ALFA.ST</th>\n",
       "      <th>ABB.ST</th>\n",
       "      <th>ERIC-B.ST</th>\n",
       "      <th>ALFA.ST</th>\n",
       "      <th>ABB.ST</th>\n",
       "      <th>ERIC-B.ST</th>\n",
       "      <th>ALFA.ST</th>\n",
       "    </tr>\n",
       "    <tr>\n",
       "      <th>Date</th>\n",
       "      <th></th>\n",
       "      <th></th>\n",
       "      <th></th>\n",
       "      <th></th>\n",
       "      <th></th>\n",
       "      <th></th>\n",
       "      <th></th>\n",
       "      <th></th>\n",
       "      <th></th>\n",
       "      <th></th>\n",
       "      <th></th>\n",
       "      <th></th>\n",
       "      <th></th>\n",
       "      <th></th>\n",
       "      <th></th>\n",
       "      <th></th>\n",
       "      <th></th>\n",
       "      <th></th>\n",
       "    </tr>\n",
       "  </thead>\n",
       "  <tbody>\n",
       "    <tr>\n",
       "      <th>2002-01-02</th>\n",
       "      <td>1.004951</td>\n",
       "      <td>0.982456</td>\n",
       "      <td>NaN</td>\n",
       "      <td>80.589073</td>\n",
       "      <td>202.224472</td>\n",
       "      <td>NaN</td>\n",
       "      <td>1.019704</td>\n",
       "      <td>1.008929</td>\n",
       "      <td>NaN</td>\n",
       "      <td>0.980296</td>\n",
       "      <td>0.991071</td>\n",
       "      <td>NaN</td>\n",
       "      <td>0.990148</td>\n",
       "      <td>0.991071</td>\n",
       "      <td>NaN</td>\n",
       "      <td>1051654.0</td>\n",
       "      <td>6226894.0</td>\n",
       "      <td>NaN</td>\n",
       "    </tr>\n",
       "    <tr>\n",
       "      <th>2002-01-03</th>\n",
       "      <td>1.083744</td>\n",
       "      <td>1.062500</td>\n",
       "      <td>NaN</td>\n",
       "      <td>87.337906</td>\n",
       "      <td>214.863495</td>\n",
       "      <td>NaN</td>\n",
       "      <td>1.000000</td>\n",
       "      <td>1.000000</td>\n",
       "      <td>NaN</td>\n",
       "      <td>0.931818</td>\n",
       "      <td>0.949580</td>\n",
       "      <td>NaN</td>\n",
       "      <td>0.931818</td>\n",
       "      <td>0.949580</td>\n",
       "      <td>NaN</td>\n",
       "      <td>5094707.0</td>\n",
       "      <td>11113838.0</td>\n",
       "      <td>NaN</td>\n",
       "    </tr>\n",
       "    <tr>\n",
       "      <th>2002-01-04</th>\n",
       "      <td>1.031818</td>\n",
       "      <td>1.008404</td>\n",
       "      <td>NaN</td>\n",
       "      <td>90.116844</td>\n",
       "      <td>216.669067</td>\n",
       "      <td>NaN</td>\n",
       "      <td>1.004405</td>\n",
       "      <td>1.033333</td>\n",
       "      <td>NaN</td>\n",
       "      <td>0.964758</td>\n",
       "      <td>0.983333</td>\n",
       "      <td>NaN</td>\n",
       "      <td>0.973568</td>\n",
       "      <td>1.016667</td>\n",
       "      <td>NaN</td>\n",
       "      <td>3175370.0</td>\n",
       "      <td>17202996.0</td>\n",
       "      <td>NaN</td>\n",
       "    </tr>\n",
       "    <tr>\n",
       "      <th>2002-01-07</th>\n",
       "      <td>0.986784</td>\n",
       "      <td>1.000000</td>\n",
       "      <td>NaN</td>\n",
       "      <td>88.925873</td>\n",
       "      <td>216.669067</td>\n",
       "      <td>NaN</td>\n",
       "      <td>1.035714</td>\n",
       "      <td>1.016667</td>\n",
       "      <td>NaN</td>\n",
       "      <td>0.977679</td>\n",
       "      <td>0.983333</td>\n",
       "      <td>NaN</td>\n",
       "      <td>1.026786</td>\n",
       "      <td>1.008333</td>\n",
       "      <td>NaN</td>\n",
       "      <td>3394227.0</td>\n",
       "      <td>20875685.0</td>\n",
       "      <td>NaN</td>\n",
       "    </tr>\n",
       "    <tr>\n",
       "      <th>2002-01-08</th>\n",
       "      <td>0.991072</td>\n",
       "      <td>0.950000</td>\n",
       "      <td>NaN</td>\n",
       "      <td>88.131889</td>\n",
       "      <td>205.835617</td>\n",
       "      <td>NaN</td>\n",
       "      <td>1.018018</td>\n",
       "      <td>1.035088</td>\n",
       "      <td>NaN</td>\n",
       "      <td>0.995496</td>\n",
       "      <td>0.991228</td>\n",
       "      <td>NaN</td>\n",
       "      <td>1.009009</td>\n",
       "      <td>1.026316</td>\n",
       "      <td>NaN</td>\n",
       "      <td>1999472.0</td>\n",
       "      <td>20743623.0</td>\n",
       "      <td>NaN</td>\n",
       "    </tr>\n",
       "    <tr>\n",
       "      <th>...</th>\n",
       "      <td>...</td>\n",
       "      <td>...</td>\n",
       "      <td>...</td>\n",
       "      <td>...</td>\n",
       "      <td>...</td>\n",
       "      <td>...</td>\n",
       "      <td>...</td>\n",
       "      <td>...</td>\n",
       "      <td>...</td>\n",
       "      <td>...</td>\n",
       "      <td>...</td>\n",
       "      <td>...</td>\n",
       "      <td>...</td>\n",
       "      <td>...</td>\n",
       "      <td>...</td>\n",
       "      <td>...</td>\n",
       "      <td>...</td>\n",
       "      <td>...</td>\n",
       "    </tr>\n",
       "    <tr>\n",
       "      <th>2021-02-23</th>\n",
       "      <td>0.972940</td>\n",
       "      <td>0.983506</td>\n",
       "      <td>0.990847</td>\n",
       "      <td>240.899994</td>\n",
       "      <td>104.349998</td>\n",
       "      <td>259.799988</td>\n",
       "      <td>1.026982</td>\n",
       "      <td>1.016291</td>\n",
       "      <td>1.026174</td>\n",
       "      <td>0.988377</td>\n",
       "      <td>0.988021</td>\n",
       "      <td>0.991917</td>\n",
       "      <td>1.025322</td>\n",
       "      <td>1.012458</td>\n",
       "      <td>1.014242</td>\n",
       "      <td>2220543.0</td>\n",
       "      <td>5886405.0</td>\n",
       "      <td>939993.0</td>\n",
       "    </tr>\n",
       "    <tr>\n",
       "      <th>2021-02-24</th>\n",
       "      <td>1.015774</td>\n",
       "      <td>0.995208</td>\n",
       "      <td>1.017321</td>\n",
       "      <td>244.699997</td>\n",
       "      <td>103.849998</td>\n",
       "      <td>264.299988</td>\n",
       "      <td>1.002043</td>\n",
       "      <td>1.014925</td>\n",
       "      <td>1.005297</td>\n",
       "      <td>0.985288</td>\n",
       "      <td>0.996148</td>\n",
       "      <td>0.978055</td>\n",
       "      <td>0.985288</td>\n",
       "      <td>1.005296</td>\n",
       "      <td>0.984109</td>\n",
       "      <td>1526122.0</td>\n",
       "      <td>32333646.0</td>\n",
       "      <td>978505.0</td>\n",
       "    </tr>\n",
       "    <tr>\n",
       "      <th>2021-02-25</th>\n",
       "      <td>0.997548</td>\n",
       "      <td>1.022147</td>\n",
       "      <td>1.005675</td>\n",
       "      <td>244.100006</td>\n",
       "      <td>106.150002</td>\n",
       "      <td>265.799988</td>\n",
       "      <td>1.011061</td>\n",
       "      <td>1.006123</td>\n",
       "      <td>1.003386</td>\n",
       "      <td>0.995903</td>\n",
       "      <td>0.986340</td>\n",
       "      <td>0.993604</td>\n",
       "      <td>1.007784</td>\n",
       "      <td>0.989166</td>\n",
       "      <td>0.998119</td>\n",
       "      <td>1370005.0</td>\n",
       "      <td>8381992.0</td>\n",
       "      <td>742172.0</td>\n",
       "    </tr>\n",
       "    <tr>\n",
       "      <th>2021-02-26</th>\n",
       "      <td>0.990987</td>\n",
       "      <td>0.992935</td>\n",
       "      <td>0.983070</td>\n",
       "      <td>241.899994</td>\n",
       "      <td>105.400002</td>\n",
       "      <td>261.299988</td>\n",
       "      <td>1.011575</td>\n",
       "      <td>1.006641</td>\n",
       "      <td>1.007654</td>\n",
       "      <td>0.996279</td>\n",
       "      <td>0.986717</td>\n",
       "      <td>0.993877</td>\n",
       "      <td>1.002894</td>\n",
       "      <td>0.997628</td>\n",
       "      <td>1.005358</td>\n",
       "      <td>1346241.0</td>\n",
       "      <td>6391238.0</td>\n",
       "      <td>477623.0</td>\n",
       "    </tr>\n",
       "    <tr>\n",
       "      <th>2021-03-01</th>\n",
       "      <td>1.025217</td>\n",
       "      <td>1.023719</td>\n",
       "      <td>1.025641</td>\n",
       "      <td>248.000000</td>\n",
       "      <td>107.900002</td>\n",
       "      <td>268.000000</td>\n",
       "      <td>1.000806</td>\n",
       "      <td>1.003244</td>\n",
       "      <td>0.999254</td>\n",
       "      <td>0.983065</td>\n",
       "      <td>0.983318</td>\n",
       "      <td>0.982090</td>\n",
       "      <td>0.983065</td>\n",
       "      <td>0.998146</td>\n",
       "      <td>0.982836</td>\n",
       "      <td>1181945.0</td>\n",
       "      <td>4982622.0</td>\n",
       "      <td>459640.0</td>\n",
       "    </tr>\n",
       "  </tbody>\n",
       "</table>\n",
       "<p>4853 rows × 18 columns</p>\n",
       "</div>"
      ],
      "text/plain": [
       "Attributes Adj Close                           Close                          \\\n",
       "Symbols       ABB.ST ERIC-B.ST   ALFA.ST      ABB.ST   ERIC-B.ST     ALFA.ST   \n",
       "Date                                                                           \n",
       "2002-01-02  1.004951  0.982456       NaN   80.589073  202.224472         NaN   \n",
       "2002-01-03  1.083744  1.062500       NaN   87.337906  214.863495         NaN   \n",
       "2002-01-04  1.031818  1.008404       NaN   90.116844  216.669067         NaN   \n",
       "2002-01-07  0.986784  1.000000       NaN   88.925873  216.669067         NaN   \n",
       "2002-01-08  0.991072  0.950000       NaN   88.131889  205.835617         NaN   \n",
       "...              ...       ...       ...         ...         ...         ...   \n",
       "2021-02-23  0.972940  0.983506  0.990847  240.899994  104.349998  259.799988   \n",
       "2021-02-24  1.015774  0.995208  1.017321  244.699997  103.849998  264.299988   \n",
       "2021-02-25  0.997548  1.022147  1.005675  244.100006  106.150002  265.799988   \n",
       "2021-02-26  0.990987  0.992935  0.983070  241.899994  105.400002  261.299988   \n",
       "2021-03-01  1.025217  1.023719  1.025641  248.000000  107.900002  268.000000   \n",
       "\n",
       "Attributes  Adj High                       Adj Low                      \\\n",
       "Symbols       ABB.ST ERIC-B.ST   ALFA.ST    ABB.ST ERIC-B.ST   ALFA.ST   \n",
       "Date                                                                     \n",
       "2002-01-02  1.019704  1.008929       NaN  0.980296  0.991071       NaN   \n",
       "2002-01-03  1.000000  1.000000       NaN  0.931818  0.949580       NaN   \n",
       "2002-01-04  1.004405  1.033333       NaN  0.964758  0.983333       NaN   \n",
       "2002-01-07  1.035714  1.016667       NaN  0.977679  0.983333       NaN   \n",
       "2002-01-08  1.018018  1.035088       NaN  0.995496  0.991228       NaN   \n",
       "...              ...       ...       ...       ...       ...       ...   \n",
       "2021-02-23  1.026982  1.016291  1.026174  0.988377  0.988021  0.991917   \n",
       "2021-02-24  1.002043  1.014925  1.005297  0.985288  0.996148  0.978055   \n",
       "2021-02-25  1.011061  1.006123  1.003386  0.995903  0.986340  0.993604   \n",
       "2021-02-26  1.011575  1.006641  1.007654  0.996279  0.986717  0.993877   \n",
       "2021-03-01  1.000806  1.003244  0.999254  0.983065  0.983318  0.982090   \n",
       "\n",
       "Attributes  Adj Open                         Volume                        \n",
       "Symbols       ABB.ST ERIC-B.ST   ALFA.ST     ABB.ST   ERIC-B.ST   ALFA.ST  \n",
       "Date                                                                       \n",
       "2002-01-02  0.990148  0.991071       NaN  1051654.0   6226894.0       NaN  \n",
       "2002-01-03  0.931818  0.949580       NaN  5094707.0  11113838.0       NaN  \n",
       "2002-01-04  0.973568  1.016667       NaN  3175370.0  17202996.0       NaN  \n",
       "2002-01-07  1.026786  1.008333       NaN  3394227.0  20875685.0       NaN  \n",
       "2002-01-08  1.009009  1.026316       NaN  1999472.0  20743623.0       NaN  \n",
       "...              ...       ...       ...        ...         ...       ...  \n",
       "2021-02-23  1.025322  1.012458  1.014242  2220543.0   5886405.0  939993.0  \n",
       "2021-02-24  0.985288  1.005296  0.984109  1526122.0  32333646.0  978505.0  \n",
       "2021-02-25  1.007784  0.989166  0.998119  1370005.0   8381992.0  742172.0  \n",
       "2021-02-26  1.002894  0.997628  1.005358  1346241.0   6391238.0  477623.0  \n",
       "2021-03-01  0.983065  0.998146  0.982836  1181945.0   4982622.0  459640.0  \n",
       "\n",
       "[4853 rows x 18 columns]"
      ]
     },
     "execution_count": 8,
     "metadata": {},
     "output_type": "execute_result"
    }
   ],
   "source": [
    "OMX = OMX.iloc[1:]\n",
    "#OMX = OMX.stack()\n",
    "OMX"
   ]
  },
  {
   "cell_type": "code",
   "execution_count": 9,
   "metadata": {},
   "outputs": [
    {
     "data": {
      "text/plain": [
       "(array([[ 0.0830918 , -0.31601275,  0.21746555, ...,  0.04556212,\n",
       "          0.36676725, -0.16472032],\n",
       "        [ 0.16303653, -0.0244664 ,  0.37068961, ..., -0.15529158,\n",
       "          0.21420302, -0.31885684],\n",
       "        [ 0.17346205,  0.02784554,  0.34820748, ..., -0.18053357,\n",
       "          0.10522889, -0.28815947],\n",
       "        ...,\n",
       "        [ 0.15830758,  0.06629045,  0.37232263, ..., -0.16935201,\n",
       "          0.04974072, -0.29913107],\n",
       "        [ 0.14565406, -0.05341974,  0.27627032, ..., -0.19206414,\n",
       "          0.09308042, -0.2569094 ],\n",
       "        [ 0.21167149,  0.0727315 ,  0.45715867, ..., -0.28416595,\n",
       "          0.09573508, -0.38826967]]),\n",
       " (4681, 18))"
      ]
     },
     "execution_count": 9,
     "metadata": {},
     "output_type": "execute_result"
    }
   ],
   "source": [
    "scaler = MinMaxScaler((-1, 1))\n",
    "data = np.concatenate((N.to_numpy(), OMX.to_numpy()), axis=1)\n",
    "data = data[:, :-number_of_stocks] # removes volume\n",
    "data = data[~np.isnan(data).any(axis=1)]\n",
    "data = scaler.fit_transform(data)\n",
    "data, data.shape"
   ]
  },
  {
   "cell_type": "code",
   "execution_count": 10,
   "metadata": {},
   "outputs": [
    {
     "name": "stdout",
     "output_type": "stream",
     "text": [
      "(4660, 21, 15)\n",
      "(4660, 1, 3)\n"
     ]
    }
   ],
   "source": [
    "X = []\n",
    "Y = []\n",
    "input_period = 21\n",
    "output_period = 1\n",
    "for i in range(input_period, data.shape[0]-output_period+1):\n",
    "    X.append(data[(i-input_period):i, number_of_stocks:])\n",
    "    Y.append(data[i:(i+output_period), :number_of_stocks])\n",
    "\n",
    "X = np.array(X)\n",
    "Y = np.array(Y)\n",
    "print(X.shape)\n",
    "print(Y.shape)"
   ]
  },
  {
   "cell_type": "code",
   "execution_count": 11,
   "metadata": {},
   "outputs": [],
   "source": [
    "split = 3000\n",
    "trainX, trainY = X[:split, :], Y[:split, :]\n",
    "valX, valY = X[split+output_period:, :], Y[split+output_period:, :] # + output_period so that they dont overlap"
   ]
  },
  {
   "cell_type": "code",
   "execution_count": 12,
   "metadata": {},
   "outputs": [
    {
     "data": {
      "text/plain": [
       "(array([-0.20989361, -0.26426935, -0.17331951, -0.26376986, -0.37347983,\n",
       "        -0.20503564, -0.38678462, -0.05922682, -0.20626223, -0.24147063,\n",
       "        -0.29172697, -0.22676485, -0.35585473, -0.24853139, -0.23747379,\n",
       "        -0.25549423, -0.25163787, -0.18420703, -0.22435431, -0.27320457,\n",
       "        -0.30676987]),\n",
       " array([[ 0.15687858, -0.01233529,  0.36727348]]))"
      ]
     },
     "execution_count": 12,
     "metadata": {},
     "output_type": "execute_result"
    }
   ],
   "source": [
    "valX[10, :, -1], valY[9] # OK"
   ]
  },
  {
   "cell_type": "code",
   "execution_count": 13,
   "metadata": {},
   "outputs": [
    {
     "name": "stdout",
     "output_type": "stream",
     "text": [
      "(3000, 21, 15) (3000, 1, 3)\n",
      "(1659, 21, 15) (1659, 1, 3)\n"
     ]
    }
   ],
   "source": [
    "print(trainX.shape, trainY.shape)\n",
    "print(valX.shape, valY.shape)"
   ]
  },
  {
   "cell_type": "code",
   "execution_count": 22,
   "metadata": {},
   "outputs": [
    {
     "name": "stdout",
     "output_type": "stream",
     "text": [
      "Epoch 1/10\n",
      "94/94 [==============================] - 6s 61ms/step - loss: 0.0142 - mae: 0.0763 - val_loss: 0.0048 - val_mae: 0.0456\n",
      "Epoch 2/10\n",
      "94/94 [==============================] - 5s 55ms/step - loss: 0.0092 - mae: 0.0602 - val_loss: 0.0048 - val_mae: 0.0454\n",
      "Epoch 3/10\n",
      "94/94 [==============================] - 3s 36ms/step - loss: 0.0093 - mae: 0.0613 - val_loss: 0.0051 - val_mae: 0.0487\n",
      "Epoch 4/10\n",
      "94/94 [==============================] - 3s 36ms/step - loss: 0.0090 - mae: 0.0602 - val_loss: 0.0048 - val_mae: 0.0449\n",
      "Epoch 5/10\n",
      "94/94 [==============================] - 4s 37ms/step - loss: 0.0090 - mae: 0.0593 - val_loss: 0.0046 - val_mae: 0.0429\n",
      "Epoch 6/10\n",
      "94/94 [==============================] - 3s 37ms/step - loss: 0.0089 - mae: 0.0588 - val_loss: 0.0048 - val_mae: 0.0464\n",
      "Epoch 7/10\n",
      "94/94 [==============================] - 4s 39ms/step - loss: 0.0089 - mae: 0.0589 - val_loss: 0.0050 - val_mae: 0.0461\n",
      "Epoch 8/10\n",
      "94/94 [==============================] - 8s 86ms/step - loss: 0.0090 - mae: 0.0597 - val_loss: 0.0047 - val_mae: 0.0444\n",
      "Epoch 9/10\n",
      "94/94 [==============================] - 5s 55ms/step - loss: 0.0089 - mae: 0.0595 - val_loss: 0.0046 - val_mae: 0.0434\n",
      "Epoch 10/10\n",
      "94/94 [==============================] - 6s 69ms/step - loss: 0.0088 - mae: 0.0585 - val_loss: 0.0050 - val_mae: 0.0458\n"
     ]
    },
    {
     "data": {
      "image/png": "[encoded data removed]",
      "text/plain": [
       "<Figure size 432x288 with 1 Axes>"
      ]
     },
     "metadata": {
      "needs_background": "light"
     },
     "output_type": "display_data"
    }
   ],
   "source": [
    "time_steps = trainX.shape[1]\n",
    "features = trainX.shape[2]\n",
    "\n",
    "lstm_model = Sequential()\n",
    "\n",
    "lstm_model.add(LSTM(100, return_sequences=False, input_shape=(time_steps, features)))\n",
    "lstm_model.add(Dense(output_period*number_of_stocks))\n",
    "lstm_model.add(Reshape([output_period, number_of_stocks]))\n",
    "\n",
    "lstm_model.compile(loss=\"mse\", optimizer=\"adam\", metrics=[\"mae\"]) # mae vs mse?\n",
    "\n",
    "history = lstm_model.fit(trainX, trainY, epochs=10, validation_data=(valX, valY))\n",
    "\n",
    "plt.plot(history.history['loss'], label='train')\n",
    "plt.plot(history.history['val_loss'], label='val')\n",
    "plt.legend()\n",
    "plt.show()"
   ]
  },
  {
   "cell_type": "code",
   "execution_count": 23,
   "metadata": {},
   "outputs": [
    {
     "name": "stdout",
     "output_type": "stream",
     "text": [
      "(1659, 1, 3) (1659, 1, 3)\n",
      "1 0.041116063588965315\n",
      "1 0.039668821575681704\n",
      "1 0.008572313876921422\n"
     ]
    }
   ],
   "source": [
    "pred_val = lstm_model.predict(valX)\n",
    "print(pred_val.shape, valY.shape)\n",
    "for i in range(output_period):\n",
    "    print(i+1, np.corrcoef(pred_val[:, i, 0], valY[:, i, 0])[0][1])\n",
    "    print(i+1, np.corrcoef(pred_val[:, i, 1], valY[:, i, 1])[0][1])\n",
    "    print(i+1, np.corrcoef(pred_val[:, i, 2], valY[:, i, 2])[0][1])"
   ]
  },
  {
   "cell_type": "code",
   "execution_count": 24,
   "metadata": {},
   "outputs": [
    {
     "data": {
      "text/plain": [
       "'for i in range(5):\\n    start = i*300\\n    y = valY[start, :, 0]\\n    p = pred_val[start, :, 0] # pred gives + 1\\n    plt.figure(i)\\n    plt.plot(y, c=\"g\")\\n    plt.plot(p, c=\"y\")'"
      ]
     },
     "execution_count": 24,
     "metadata": {},
     "output_type": "execute_result"
    }
   ],
   "source": [
    "'''for i in range(5):\n",
    "    start = i*300\n",
    "    y = valY[start, :, 0]\n",
    "    p = pred_val[start, :, 0] # pred gives + 1\n",
    "    plt.figure(i)\n",
    "    plt.plot(y, c=\"g\")\n",
    "    plt.plot(p, c=\"y\")'''"
   ]
  },
  {
   "cell_type": "code",
   "execution_count": 25,
   "metadata": {},
   "outputs": [
    {
     "data": {
      "text/plain": [
       "[<matplotlib.lines.Line2D at 0x7fdd6c3cc520>]"
      ]
     },
     "execution_count": 25,
     "metadata": {},
     "output_type": "execute_result"
    },
    {
     "data": {
      "image/png": "[encoded data removed]",
      "text/plain": [
       "<Figure size 432x288 with 1 Axes>"
      ]
     },
     "metadata": {
      "needs_background": "light"
     },
     "output_type": "display_data"
    }
   ],
   "source": [
    "plt.plot(valY[:, 0, 0], c=\"g\")\n",
    "plt.plot(pred_val[:, 0, 0], c=\"y\")"
   ]
  },
  {
   "cell_type": "code",
   "execution_count": 26,
   "metadata": {},
   "outputs": [
    {
     "data": {
      "text/plain": [
       "[<matplotlib.lines.Line2D at 0x7fdd6c38c6a0>]"
      ]
     },
     "execution_count": 26,
     "metadata": {},
     "output_type": "execute_result"
    },
    {
     "data": {
      "image/png": "[encoded data removed]",
      "text/plain": [
       "<Figure size 432x288 with 1 Axes>"
      ]
     },
     "metadata": {
      "needs_background": "light"
     },
     "output_type": "display_data"
    }
   ],
   "source": [
    "plt.plot(valY[200:250, 0, 0], c=\"g\")\n",
    "plt.plot(pred_val[200:250, 0, 0], c=\"y\")"
   ]
  },
  {
   "cell_type": "code",
   "execution_count": 27,
   "metadata": {},
   "outputs": [
    {
     "data": {
      "text/plain": [
       "[<matplotlib.lines.Line2D at 0x7fdd6c358fa0>]"
      ]
     },
     "execution_count": 27,
     "metadata": {},
     "output_type": "execute_result"
    },
    {
     "data": {
      "image/png": "[encoded data removed]",
      "text/plain": [
       "<Figure size 432x288 with 1 Axes>"
      ]
     },
     "metadata": {
      "needs_background": "light"
     },
     "output_type": "display_data"
    }
   ],
   "source": [
    "plt.plot(valY[:, 0, 1], c=\"g\")\n",
    "plt.plot(pred_val[:, 0, 1], c=\"y\")"
   ]
  },
  {
   "cell_type": "code",
   "execution_count": 28,
   "metadata": {},
   "outputs": [
    {
     "data": {
      "text/plain": [
       "[<matplotlib.lines.Line2D at 0x7fdd8c7e6370>]"
      ]
     },
     "execution_count": 28,
     "metadata": {},
     "output_type": "execute_result"
    },
    {
     "data": {
      "image/png": "[encoded data removed]",
      "text/plain": [
       "<Figure size 432x288 with 1 Axes>"
      ]
     },
     "metadata": {
      "needs_background": "light"
     },
     "output_type": "display_data"
    }
   ],
   "source": [
    "plt.plot(valY[200:250, 0, 1], c=\"g\")\n",
    "plt.plot(pred_val[200:250, 0, 1], c=\"y\")"
   ]
  },
  {
   "cell_type": "code",
   "execution_count": 29,
   "metadata": {},
   "outputs": [
    {
     "data": {
      "text/plain": [
       "[<matplotlib.lines.Line2D at 0x7fdd6c692e80>]"
      ]
     },
     "execution_count": 29,
     "metadata": {},
     "output_type": "execute_result"
    },
    {
     "data": {
      "image/png": "[encoded data removed]",
      "text/plain": [
       "<Figure size 432x288 with 1 Axes>"
      ]
     },
     "metadata": {
      "needs_background": "light"
     },
     "output_type": "display_data"
    }
   ],
   "source": [
    "plt.plot(valY[:, 0, 2], c=\"g\")\n",
    "plt.plot(pred_val[:, 0, 2], c=\"y\")"
   ]
  },
  {
   "cell_type": "code",
   "execution_count": 30,
   "metadata": {},
   "outputs": [
    {
     "data": {
      "text/plain": [
       "[<matplotlib.lines.Line2D at 0x7fdd6c699460>]"
      ]
     },
     "execution_count": 30,
     "metadata": {},
     "output_type": "execute_result"
    },
    {
     "data": {
      "image/png": "[encoded data removed]",
      "text/plain": [
       "<Figure size 432x288 with 1 Axes>"
      ]
     },
     "metadata": {
      "needs_background": "light"
     },
     "output_type": "display_data"
    }
   ],
   "source": [
    "plt.plot(valY[200:250, 0, 2], c=\"g\")\n",
    "plt.plot(pred_val[200:250, 0, 2], c=\"y\")"
   ]
  },
  {
   "cell_type": "code",
   "execution_count": null,
   "metadata": {},
   "outputs": [],
   "source": []
  }
 ],
 "metadata": {
  "kernelspec": {
   "display_name": "Python 3",
   "language": "python",
   "name": "python3"
  },
  "language_info": {
   "codemirror_mode": {
    "name": "ipython",
    "version": 3
   },
   "file_extension": ".py",
   "mimetype": "text/x-python",
   "name": "python",
   "nbconvert_exporter": "python",
   "pygments_lexer": "ipython3",
   "version": "3.8.3"
  }
 },
 "nbformat": 4,
 "nbformat_minor": 4
}
